{
 "cells": [
  {
   "cell_type": "markdown",
   "metadata": {},
   "source": [
    "# #QUESTION NO.-1"
   ]
  },
  {
   "cell_type": "code",
   "execution_count": 64,
   "metadata": {},
   "outputs": [],
   "source": [
    "from selenium import webdriver\n",
    "driver=webdriver.Chrome('c:\\webdrivers\\chromedriver')\n",
    "driver.get('https://www.instagram.com/')\n",
    "driver.maximize_window()"
   ]
  },
  {
   "cell_type": "code",
   "execution_count": 65,
   "metadata": {},
   "outputs": [],
   "source": [
    "user_name=driver.find_element_by_name('username')\n",
    "user_name.send_keys('SAMPLE USERNAME')\n",
    "password=driver.find_element_by_name('password')\n",
    "password.send_keys('SSAMPLE PASSWORD')\n",
    "password.submit()"
   ]
  },
  {
   "cell_type": "markdown",
   "metadata": {},
   "source": [
    "# #QUESTION NO.-2"
   ]
  },
  {
   "cell_type": "code",
   "execution_count": 66,
   "metadata": {},
   "outputs": [],
   "source": [
    "alert=driver.find_element_by_xpath('//div[@class=\"mt3GC\"]/button')\n",
    "alert.click()\n",
    "search=driver.find_element_by_xpath('//div[@class=\"LWmhU _0aCwM\"]/input')\n",
    "search.send_keys('food')\n",
    "search.click()\n",
    "\n",
    "import re\n",
    "name_list=driver.find_elements_by_class_name('Ap253')\n",
    "for i in name_list:\n",
    "    blog_names=re.search('\\w+',i.get_attribute('innerHTML')).group()\n",
    "    print(blog_names)"
   ]
  },
  {
   "cell_type": "markdown",
   "metadata": {},
   "source": [
    "# #QUESTION NO.-3"
   ]
  },
  {
   "cell_type": "code",
   "execution_count": 103,
   "metadata": {},
   "outputs": [],
   "source": [
    "from selenium.webdriver.support.ui import WebDriverWait\n",
    "from selenium.webdriver.support import expected_conditions as EC\n",
    "from selenium.webdriver.common.by import By\n",
    "search=driver.find_element_by_xpath('//div[@class=\"LWmhU _0aCwM\"]/input')\n",
    "search.clear()\n",
    "search=driver.find_element_by_xpath('//div[@class=\"LWmhU _0aCwM\"]/input')\n",
    "search.send_keys('So Delhi')\n",
    "w=WebDriverWait(driver,10)\n",
    "links=w.until(EC.presence_of_element_located((By.XPATH,'//div[@class=\"fuqBx\"]/a')))\n",
    "links.click()"
   ]
  },
  {
   "cell_type": "markdown",
   "metadata": {},
   "source": [
    "# #QUESTION NO.-4"
   ]
  },
  {
   "cell_type": "code",
   "execution_count": 104,
   "metadata": {},
   "outputs": [],
   "source": [
    "####   PART-1    #####\n",
    "from selenium.webdriver.support.ui import WebDriverWait\n",
    "from selenium.webdriver.support import expected_conditions as EC\n",
    "from selenium.webdriver.common.by import By\n",
    "search=driver.find_element_by_xpath('//div[@class=\"LWmhU _0aCwM\"]/input')\n",
    "search.clear()\n",
    "search=driver.find_element_by_xpath('//div[@class=\"LWmhU _0aCwM\"]/input')\n",
    "search.send_keys('So Delhi')\n",
    "w=WebDriverWait(driver,10)\n",
    "links=w.until(EC.presence_of_element_located((By.XPATH,'//div[@class=\"fuqBx\"]/a')))\n",
    "links.click()"
   ]
  },
  {
   "cell_type": "code",
   "execution_count": 105,
   "metadata": {},
   "outputs": [],
   "source": [
    "####   PART-2    #####\n",
    "if driver.find_element_by_tag_name('button').get_attribute('innerHTML')==\"Follow\":\n",
    "    follow=driver.find_element_by_tag_name('button')\n",
    "    follow.click()\n",
    "\n",
    "else:\n",
    "    print(\"Already Following\")\n",
    "    "
   ]
  },
  {
   "cell_type": "code",
   "execution_count": 106,
   "metadata": {},
   "outputs": [],
   "source": [
    "####   PART-3    #####\n",
    "if driver.find_element_by_tag_name('button').get_attribute('innerHTML')==\"Follow\":\n",
    "    print(\"Already Unfollowed\")\n",
    "else:\n",
    "    button=driver.find_element_by_xpath('//div[starts-with(@class,\"                   Igw0E\")]/span/span/button')\n",
    "    button.click()\n",
    "    unfollow=driver.find_element_by_xpath('//div[@class=\"mt3GC\"]/button')\n",
    "    unfollow.click()"
   ]
  },
  {
   "cell_type": "markdown",
   "metadata": {},
   "source": [
    "# #QUESTION NO.-5"
   ]
  },
  {
   "cell_type": "code",
   "execution_count": null,
   "metadata": {},
   "outputs": [],
   "source": [
    "#-------->   PART-1   <---------#\n",
    "####---------------LIKE THE TOP 30 POST OF DILSEFOODIE-------------------####\n",
    "search=driver.find_element_by_xpath('//div[@class=\"LWmhU _0aCwM\"]/input')\n",
    "search.clear()\n",
    "search=driver.find_element_by_xpath('//div[@class=\"LWmhU _0aCwM\"]/input')\n",
    "search.send_keys('dilsefoodie')\n",
    "w=WebDriverWait(driver,10)\n",
    "links=w.until(EC.presence_of_element_located((By.XPATH,'//div[@class=\"fuqBx\"]/a')))\n",
    "links.click()\n",
    "driver.execute_script('window.scrollBy(0,500);')\n",
    "post=driver.find_elements_by_class_name('_9AhH0')\n",
    "search.clear()\n",
    "Clear=driver.find_element_by_xpath('//div[contains(@class,\"coreSpriteSearchClear\")]')\n",
    "Clear.click()\n",
    "\n",
    "post[0].click()\n",
    "for i in range(30):\n",
    "   \n",
    "    wait=WebDriverWait(driver,10)\n",
    "    like=wait.until(EC.presence_of_element_located((By.XPATH,'//div[starts-with(@class,\"eo2As\")]/section/span/button')))\n",
    "    x=driver.find_element_by_xpath('//div[starts-with(@class,\"eo2As\")]/section/span/button/*')\n",
    "    if x.get_attribute('aria-label')==\"Unlike\":\n",
    "        print(\"Already Liked\")\n",
    "    else:\n",
    "        like.click()\n",
    "    wait=WebDriverWait(driver,20)\n",
    "    Next=wait.until(EC.presence_of_element_located((By.XPATH,'//div[@class=\"DdSX2\"]/a[last()]')))\n",
    "    if i==29:\n",
    "        break\n",
    "    Next.click()"
   ]
  },
  {
   "cell_type": "code",
   "execution_count": 126,
   "metadata": {},
   "outputs": [],
   "source": [
    "#-------->   PART-2   <---------#\n",
    "####---------------UNLIKE THE TOP 30 POST OF DILSEFOODIE-------------------####\n",
    "close=driver.find_elements_by_tag_name('svg')\n",
    "close[-1].click()\n",
    "post[0].click()\n",
    "for i in range(30):\n",
    "   \n",
    "    #time.sleep(2)\n",
    "    wait=WebDriverWait(driver,10)\n",
    "    #like=driver.find_element_by_xpath('//div[starts-with(@class,\"eo2As\")]/section/span/button')\n",
    "    like=wait.until(EC.presence_of_element_located((By.XPATH,'//div[starts-with(@class,\"eo2As\")]/section/span/button')))\n",
    "    x=driver.find_element_by_xpath('//div[starts-with(@class,\"eo2As\")]/section/span/button/*')\n",
    "    #print(x.get_attribute('aria-label'))\n",
    "    if x.get_attribute('aria-label')==\"Like\":\n",
    "        print(\"Already Unliked\")\n",
    "    else:\n",
    "        like.click()\n",
    "    #time.sleep(3)\n",
    "    wait=WebDriverWait(driver,20)\n",
    "    Next=wait.until(EC.presence_of_element_located((By.XPATH,'//div[@class=\"DdSX2\"]/a[last()]')))\n",
    "    #Next=driver.find_element_by_xpath('//div[@class=\"DdSX2\"]/a[last()]')\n",
    "    if i==29:\n",
    "        break\n",
    "    Next.click()\n",
    "close=driver.find_elements_by_tag_name('svg')\n",
    "close[-1].click()"
   ]
  },
  {
   "cell_type": "markdown",
   "metadata": {},
   "source": [
    "# #QUESTION NO.-6"
   ]
  },
  {
   "cell_type": "code",
   "execution_count": 35,
   "metadata": {},
   "outputs": [],
   "source": [
    "#----------->  PART-1  <-------------#\n",
    "driver.execute_script('window.scrollBy(0,-500);')"
   ]
  },
  {
   "cell_type": "code",
   "execution_count": null,
   "metadata": {},
   "outputs": [],
   "source": [
    "foodtalkindia=[]\n",
    "search=driver.find_element_by_xpath('//div[@class=\"LWmhU _0aCwM\"]/input')\n",
    "search.clear()\n",
    "search=driver.find_element_by_xpath('//div[@class=\"LWmhU _0aCwM\"]/input')\n",
    "search.send_keys('foodtalkindia')\n",
    "w=WebDriverWait(driver,10)\n",
    "links=w.until(EC.presence_of_element_located((By.XPATH,'//div[@class=\"fuqBx\"]/a')))\n",
    "links.click()\n",
    "l=driver.find_elements_by_class_name('-nal3 ')\n",
    "time.sleep(5)\n",
    "l[1].click()\n",
    "username=driver.find_elements_by_xpath('//div[@class=\"d7ByH\"]/a')\n",
    "for i in username:\n",
    "    if len(foodtalkindia)==500:\n",
    "        break\n",
    "    foodtalkindia.append(i.get_attribute('innerHTML'))"
   ]
  },
  {
   "cell_type": "code",
   "execution_count": null,
   "metadata": {},
   "outputs": [],
   "source": [
    "So_Delhi=[]\n",
    "import time\n",
    "search=driver.find_element_by_xpath('//div[@class=\"LWmhU _0aCwM\"]/input')\n",
    "search.clear()\n",
    "search=driver.find_element_by_xpath('//div[@class=\"LWmhU _0aCwM\"]/input')\n",
    "search.send_keys('So_Delhi')\n",
    "w=WebDriverWait(driver,10)\n",
    "links=w.until(EC.presence_of_element_located((By.XPATH,'//div[@class=\"fuqBx\"]/a')))\n",
    "links.click()\n",
    "l=driver.find_elements_by_class_name('-nal3 ')\n",
    "l[1].click()\n",
    "time.sleep(5)\n",
    "username1=driver.find_elements_by_xpath('//div[@class=\"d7ByH\"]/a')\n",
    "for i in username1:\n",
    "    if len(So_Delhi)==500:\n",
    "        break\n",
    "    So_Delhi.append(i.get_attribute('innerHTML'))\n",
    "\n"
   ]
  },
  {
   "cell_type": "code",
   "execution_count": null,
   "metadata": {},
   "outputs": [],
   "source": [
    "#list of followers of FOODTALKINDIA\n",
    "print(\"list of followers of FOODTALKINDIA\")\n",
    "for i in foodtalkindia:\n",
    "    print(i)"
   ]
  },
  {
   "cell_type": "code",
   "execution_count": null,
   "metadata": {},
   "outputs": [],
   "source": [
    "#list of followers of SO_DELHI\n",
    "print(\"list of followers of SO_DELHI\")\n",
    "for i in So_Delhi:\n",
    "    print(i)"
   ]
  },
  {
   "cell_type": "markdown",
   "metadata": {},
   "source": [
    "# QUESTION NO.-7"
   ]
  },
  {
   "cell_type": "code",
   "execution_count": null,
   "metadata": {},
   "outputs": [],
   "source": [
    "from selenium.webdriver.support.ui import WebDriverWait\n",
    "from selenium.webdriver.support import expected_conditions as EC\n",
    "from selenium.webdriver.common.by import By\n",
    "w=WebDriverWait(driver,10)\n",
    "see_all=driver.find_elements_by_class_name(\"eebAO  \")\n",
    "watch=driver.find_elements_by_xpath('//div[contains(@class,\"puCyQ\")]')\n",
    "stories=[]\n",
    "watched=[]\n",
    "\n",
    "for i in watch:\n",
    "    watched.append(i.get_attribute(\"innerHTML\"))\n",
    "    \n",
    "for i in see_all:\n",
    "    stories.append(i.get_attribute('innerHTML'))\n",
    "    \n",
    "if \"coding.ninjas\" not in stories:\n",
    "    print(\"The user has no story\")\n",
    "    \n",
    "for i in see_all:\n",
    "    if i.get_attribute('innerHTML')==\"coding.ninjas\":\n",
    "        i.click()   \n",
    "\n",
    "for i in see_all:   \n",
    "     if i.get_attribute('innerHTML') in watched:\n",
    "        print(\"User already seen the story\")\n",
    "        break"
   ]
  },
  {
   "cell_type": "code",
   "execution_count": null,
   "metadata": {},
   "outputs": [],
   "source": []
  }
 ],
 "metadata": {
  "kernelspec": {
   "display_name": "Python 3",
   "language": "python",
   "name": "python3"
  },
  "language_info": {
   "codemirror_mode": {
    "name": "ipython",
    "version": 3
   },
   "file_extension": ".py",
   "mimetype": "text/x-python",
   "name": "python",
   "nbconvert_exporter": "python",
   "pygments_lexer": "ipython3",
   "version": "3.7.4"
  }
 },
 "nbformat": 4,
 "nbformat_minor": 2
}
